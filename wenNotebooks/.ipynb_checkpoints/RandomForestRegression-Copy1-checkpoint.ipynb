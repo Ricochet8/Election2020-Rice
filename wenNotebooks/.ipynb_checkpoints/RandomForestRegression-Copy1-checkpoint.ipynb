{
 "cells": [
  {
   "cell_type": "code",
   "execution_count": 1,
   "metadata": {},
   "outputs": [],
   "source": [
    "import numpy as np\n",
    "from sklearn.ensemble import RandomForestRegressor "
   ]
  },
  {
   "cell_type": "code",
   "execution_count": 2,
   "metadata": {},
   "outputs": [],
   "source": [
    "# Load Numpy Arrays (Split Data)\n",
    "path = '../dataFiles/mlInputData/x_vars_classify_train.npy'\n",
    "x_vars_classify_train =np.load(path)\n",
    "path = '../dataFiles/mlInputData/x_vars_classify_test.npy'\n",
    "x_vars_classify_test = np.load(path)\n",
    "path = '../dataFiles/mlInputData/y_var_classify_train.npy'\n",
    "y_var_classify_train = np.load(path)\n",
    "path = '../dataFiles/mlInputData/y_var_classify_test.npy'\n",
    "y_var_classify_test = np.load(path)"
   ]
  },
  {
   "cell_type": "code",
   "execution_count": 3,
   "metadata": {},
   "outputs": [],
   "source": [
    "# create regressor object \n",
    "regressor = RandomForestRegressor(n_estimators = 100, random_state = 0) \n",
    "  \n",
    "# fit the regressor with x and y data \n",
    "regressor.fit(x, y) "
   ]
  },
  {
   "cell_type": "code",
   "execution_count": 4,
   "metadata": {},
   "outputs": [],
   "source": []
  },
  {
   "cell_type": "code",
   "execution_count": 5,
   "metadata": {},
   "outputs": [],
   "source": []
  },
  {
   "cell_type": "code",
   "execution_count": 6,
   "metadata": {},
   "outputs": [],
   "source": []
  },
  {
   "cell_type": "code",
   "execution_count": 7,
   "metadata": {},
   "outputs": [],
   "source": []
  },
  {
   "cell_type": "code",
   "execution_count": 8,
   "metadata": {},
   "outputs": [],
   "source": []
  },
  {
   "cell_type": "code",
   "execution_count": 9,
   "metadata": {},
   "outputs": [
    {
     "name": "stdout",
     "output_type": "stream",
     "text": [
      "Epoch 1/25\n",
      " - 0s - loss: 516.4288 - accuracy: 0.6038\n",
      "Epoch 2/25\n",
      " - 0s - loss: 32.1350 - accuracy: 0.6493\n",
      "Epoch 3/25\n",
      " - 0s - loss: 29.2719 - accuracy: 0.6840\n",
      "Epoch 4/25\n",
      " - 0s - loss: 11.9671 - accuracy: 0.6927\n",
      "Epoch 5/25\n",
      " - 0s - loss: 24.7689 - accuracy: 0.6671\n",
      "Epoch 6/25\n",
      " - 0s - loss: 12.7637 - accuracy: 0.7109\n",
      "Epoch 7/25\n",
      " - 0s - loss: 14.7905 - accuracy: 0.7243\n",
      "Epoch 8/25\n",
      " - 0s - loss: 8.5801 - accuracy: 0.7261\n",
      "Epoch 9/25\n",
      " - 0s - loss: 19.6286 - accuracy: 0.6710\n",
      "Epoch 10/25\n",
      " - 0s - loss: 11.3974 - accuracy: 0.7252\n",
      "Epoch 11/25\n",
      " - 0s - loss: 9.0354 - accuracy: 0.7235\n",
      "Epoch 12/25\n",
      " - 0s - loss: 12.1536 - accuracy: 0.7321\n",
      "Epoch 13/25\n",
      " - 0s - loss: 21.5382 - accuracy: 0.7013\n",
      "Epoch 14/25\n",
      " - 0s - loss: 6.0509 - accuracy: 0.7612\n",
      "Epoch 15/25\n",
      " - 0s - loss: 6.2152 - accuracy: 0.7495\n",
      "Epoch 16/25\n",
      " - 0s - loss: 19.9060 - accuracy: 0.7000\n",
      "Epoch 17/25\n",
      " - 0s - loss: 7.7605 - accuracy: 0.7508\n",
      "Epoch 18/25\n",
      " - 0s - loss: 9.4653 - accuracy: 0.7208\n",
      "Epoch 19/25\n",
      " - 0s - loss: 9.4250 - accuracy: 0.7274\n",
      "Epoch 20/25\n",
      " - 0s - loss: 10.3687 - accuracy: 0.7399\n",
      "Epoch 21/25\n",
      " - 0s - loss: 6.7722 - accuracy: 0.7477\n",
      "Epoch 22/25\n",
      " - 0s - loss: 10.7437 - accuracy: 0.7204\n",
      "Epoch 23/25\n",
      " - 0s - loss: 6.7010 - accuracy: 0.7477\n",
      "Epoch 24/25\n",
      " - 0s - loss: 5.2376 - accuracy: 0.7620\n",
      "Epoch 25/25\n",
      " - 0s - loss: 16.6487 - accuracy: 0.6979\n"
     ]
    },
    {
     "data": {
      "text/plain": [
       "<keras.callbacks.callbacks.History at 0x1d4a7217668>"
      ]
     },
     "execution_count": 9,
     "metadata": {},
     "output_type": "execute_result"
    }
   ],
   "source": []
  },
  {
   "cell_type": "code",
   "execution_count": 10,
   "metadata": {},
   "outputs": [
    {
     "name": "stdout",
     "output_type": "stream",
     "text": [
      "Loss: 23.804821237631057, Accuracy: 0.7802340984344482\n"
     ]
    }
   ],
   "source": [
    "model_loss, model_accuracy = model.evaluate(x_vars_classify_test, y_var_classify_test, verbose=2)\n",
    "print(f\"Loss: {model_loss}, Accuracy: {model_accuracy}\")"
   ]
  },
  {
   "cell_type": "code",
   "execution_count": null,
   "metadata": {},
   "outputs": [],
   "source": []
  }
 ],
 "metadata": {
  "kernelspec": {
   "display_name": "Python 3",
   "language": "python",
   "name": "python3"
  },
  "language_info": {
   "codemirror_mode": {
    "name": "ipython",
    "version": 3
   },
   "file_extension": ".py",
   "mimetype": "text/x-python",
   "name": "python",
   "nbconvert_exporter": "python",
   "pygments_lexer": "ipython3",
   "version": "3.7.3"
  }
 },
 "nbformat": 4,
 "nbformat_minor": 2
}
