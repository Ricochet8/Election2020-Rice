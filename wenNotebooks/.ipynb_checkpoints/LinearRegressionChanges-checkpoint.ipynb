{
 "cells": [
  {
   "cell_type": "code",
   "execution_count": 1,
   "metadata": {},
   "outputs": [],
   "source": [
    "import numpy as np\n",
    "import statsmodels.api as sm"
   ]
  },
  {
   "cell_type": "code",
   "execution_count": 2,
   "metadata": {},
   "outputs": [],
   "source": [
    "# Load Numpy Arrays (Split Data)\n",
    "path = '../dataFiles/mlInputData/x_vars_changes.npy'\n",
    "x_vars =np.load(path)\n",
    "path = '../dataFiles/mlInputData/y_var_numeric_changes.npy'\n",
    "y_var_numeric = np.load(path)"
   ]
  },
  {
   "cell_type": "code",
   "execution_count": 3,
   "metadata": {},
   "outputs": [
    {
     "name": "stdout",
     "output_type": "stream",
     "text": [
      "                                 OLS Regression Results                                \n",
      "=======================================================================================\n",
      "Dep. Variable:                      y   R-squared (uncentered):                   0.776\n",
      "Model:                            OLS   Adj. R-squared (uncentered):              0.776\n",
      "Method:                 Least Squares   F-statistic:                              1774.\n",
      "Date:                Sat, 11 Jan 2020   Prob (F-statistic):                        0.00\n",
      "Time:                        15:36:16   Log-Likelihood:                         -10315.\n",
      "No. Observations:                3072   AIC:                                  2.064e+04\n",
      "Df Residuals:                    3066   BIC:                                  2.068e+04\n",
      "Df Model:                           6                                                  \n",
      "Covariance Type:            nonrobust                                                  \n",
      "==============================================================================\n",
      "                 coef    std err          t      P>|t|      [0.025      0.975]\n",
      "------------------------------------------------------------------------------\n",
      "x1             0.2023      0.013     15.207      0.000       0.176       0.228\n",
      "x2             0.1608      0.011     14.571      0.000       0.139       0.182\n",
      "x3            -0.2181      0.009    -23.315      0.000      -0.236      -0.200\n",
      "x4            -0.3076      0.011    -28.746      0.000      -0.329      -0.287\n",
      "x5            -0.6507      0.014    -47.359      0.000      -0.678      -0.624\n",
      "x6            54.8858      0.876     62.623      0.000      53.167      56.604\n",
      "==============================================================================\n",
      "Omnibus:                      241.234   Durbin-Watson:                   1.328\n",
      "Prob(Omnibus):                  0.000   Jarque-Bera (JB):              684.750\n",
      "Skew:                          -0.419   Prob(JB):                    2.03e-149\n",
      "Kurtosis:                       5.156   Cond. No.                         221.\n",
      "==============================================================================\n",
      "\n",
      "Warnings:\n",
      "[1] Standard Errors assume that the covariance matrix of the errors is correctly specified.\n"
     ]
    }
   ],
   "source": [
    "# Fit Model\n",
    "x_vars = sm.add_constant(x_vars)\n",
    "est = sm.OLS(y_var_numeric, x_vars)\n",
    "est2 = est.fit()\n",
    "print(est2.summary())"
   ]
  },
  {
   "cell_type": "code",
   "execution_count": null,
   "metadata": {},
   "outputs": [],
   "source": []
  },
  {
   "cell_type": "code",
   "execution_count": null,
   "metadata": {},
   "outputs": [],
   "source": []
  },
  {
   "cell_type": "code",
   "execution_count": null,
   "metadata": {},
   "outputs": [],
   "source": []
  },
  {
   "cell_type": "code",
   "execution_count": null,
   "metadata": {},
   "outputs": [],
   "source": []
  }
 ],
 "metadata": {
  "kernelspec": {
   "display_name": "Python 3",
   "language": "python",
   "name": "python3"
  },
  "language_info": {
   "codemirror_mode": {
    "name": "ipython",
    "version": 3
   },
   "file_extension": ".py",
   "mimetype": "text/x-python",
   "name": "python",
   "nbconvert_exporter": "python",
   "pygments_lexer": "ipython3",
   "version": "3.7.3"
  }
 },
 "nbformat": 4,
 "nbformat_minor": 2
}
