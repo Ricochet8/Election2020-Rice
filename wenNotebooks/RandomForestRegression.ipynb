{
 "cells": [
  {
   "cell_type": "code",
   "execution_count": 1,
   "metadata": {},
   "outputs": [],
   "source": [
    "import numpy as np\n",
    "from sklearn.ensemble import RandomForestRegressor \n",
    "import pandas as pd"
   ]
  },
  {
   "cell_type": "code",
   "execution_count": 2,
   "metadata": {},
   "outputs": [],
   "source": [
    "# Load Numpy Arrays (Split Data)\n",
    "path = '../dataFiles/mlInputData/x_vars_regression_train.npy'\n",
    "x_vars_regression_train =np.load(path)\n",
    "path = '../dataFiles/mlInputData/x_vars_regression_test.npy'\n",
    "x_vars_regression_test = np.load(path)\n",
    "path = '../dataFiles/mlInputData/y_var_regression_train.npy'\n",
    "y_var_regression_train = np.load(path)\n",
    "path = '../dataFiles/mlInputData/y_var_regression_test.npy'\n",
    "y_var_regression_test = np.load(path)"
   ]
  },
  {
   "cell_type": "code",
   "execution_count": 3,
   "metadata": {},
   "outputs": [
    {
     "data": {
      "text/plain": [
       "RandomForestRegressor(bootstrap=True, criterion='mse', max_depth=None,\n",
       "                      max_features='auto', max_leaf_nodes=None,\n",
       "                      min_impurity_decrease=0.0, min_impurity_split=None,\n",
       "                      min_samples_leaf=1, min_samples_split=2,\n",
       "                      min_weight_fraction_leaf=0.0, n_estimators=100,\n",
       "                      n_jobs=None, oob_score=False, random_state=0, verbose=0,\n",
       "                      warm_start=False)"
      ]
     },
     "execution_count": 3,
     "metadata": {},
     "output_type": "execute_result"
    }
   ],
   "source": [
    "# create regressor object \n",
    "regressor = RandomForestRegressor(n_estimators = 100, random_state = 0) \n",
    "  \n",
    "# fit the regressor with x and y data \n",
    "regressor.fit(x_vars_regression_train, y_var_regression_train) "
   ]
  },
  {
   "cell_type": "code",
   "execution_count": 4,
   "metadata": {},
   "outputs": [],
   "source": [
    "# Make Predictions\n",
    "predictions = regressor.predict(x_vars_regression_test)"
   ]
  },
  {
   "cell_type": "code",
   "execution_count": 5,
   "metadata": {},
   "outputs": [],
   "source": [
    "# Test Predictions, Convert Regression to Classifications\n",
    "predictions_test = pd.DataFrame(predictions)\n",
    "actuals_test = pd.DataFrame(y_var_regression_test)\n",
    "predictions_test.rename(columns={0:'Predictions'}, inplace=True)\n",
    "actuals_test.rename(columns={0:'Actuals'}, inplace=True)\n",
    "combined = pd.concat([predictions_test, actuals_test], axis=1)"
   ]
  },
  {
   "cell_type": "code",
   "execution_count": 6,
   "metadata": {},
   "outputs": [],
   "source": [
    "combined.insert(len(combined.columns), 'actual_victor', 'Republican')\n",
    "combined.insert(len(combined.columns), 'predicted_victor', 'Republican')\n",
    "combined.insert(len(combined.columns), 'prediction_correct', 0)\n",
    "\n",
    "combined.loc[combined['Actuals']<0, 'actual_victor']='Democratic'\n",
    "combined.loc[combined['Predictions']<0, 'predicted_victor']='Democratic'\n",
    "combined.loc[(combined['actual_victor'] == combined['predicted_victor']), 'prediction_correct']=1"
   ]
  },
  {
   "cell_type": "code",
   "execution_count": 7,
   "metadata": {},
   "outputs": [
    {
     "data": {
      "text/plain": [
       "0.9308695652173913"
      ]
     },
     "execution_count": 7,
     "metadata": {},
     "output_type": "execute_result"
    }
   ],
   "source": [
    "score = combined['prediction_correct'].sum()/combined['prediction_correct'].count()\n",
    "score"
   ]
  },
  {
   "cell_type": "code",
   "execution_count": 8,
   "metadata": {},
   "outputs": [],
   "source": [
    "# Feature Importance\n",
    "importances = list(regressor.feature_importances_)\n",
    "# Features\n",
    "features =  [\n",
    "'Evangelical Protestant',\n",
    "'Black Protestant',\n",
    "'Mainline Protestant',\n",
    "'Catholic',\n",
    "'Orthodox',\n",
    "'Other Religion',\n",
    "'Non Religious %',     \n",
    "'Population Density (Per Sq. Mile)',\n",
    "'% Total Population: Male',\n",
    "'% Total Population: Female',\n",
    "'% Total Population: 18 to 34 Years',\n",
    "'% Total Population: 35 to 64 Years',\n",
    "'% Total Population: 65 and Over',\n",
    "'% Total Population: White Alone',\n",
    "'% Total Population: Black or African American Alone',\n",
    "'% Total Population: American Indian and Alaska Native Alone',\n",
    "'% Total Population: Asian Alone',\n",
    "'% Total population: Hispanic or Latino',\n",
    "'% Population 15 Years and Over: Never Married',\n",
    "'% Population 15 Years and Over: Now Married (Not Including Separated)',\n",
    "'% Population 15 Years and Over: Divorced',\n",
    "'% Single Parent Households',\n",
    "'Average Household Size',\n",
    "'College or Above',\n",
    "'Gini Index',\n",
    "'Median Income',\n",
    "'% Civilian Population 18 Years and Over: Veteran',\n",
    "'% Civilian Population 18 Years and Over: Nonveteran',\n",
    "]"
   ]
  },
  {
   "cell_type": "code",
   "execution_count": 9,
   "metadata": {},
   "outputs": [],
   "source": [
    "feature_importances = [(feature, round(importance, 2)) for feature, importance in zip(features, importances)]\n"
   ]
  },
  {
   "cell_type": "code",
   "execution_count": 10,
   "metadata": {},
   "outputs": [],
   "source": [
    "feature_importances = sorted(feature_importances, key = lambda x: x[1], reverse = True)"
   ]
  },
  {
   "cell_type": "code",
   "execution_count": 11,
   "metadata": {},
   "outputs": [],
   "source": [
    "feature_importances = pd.DataFrame(feature_importances)"
   ]
  },
  {
   "cell_type": "code",
   "execution_count": 12,
   "metadata": {},
   "outputs": [],
   "source": [
    "import statsmodels.api as sm"
   ]
  },
  {
   "cell_type": "code",
   "execution_count": 13,
   "metadata": {},
   "outputs": [
    {
     "name": "stdout",
     "output_type": "stream",
     "text": [
      "                            OLS Regression Results                            \n",
      "==============================================================================\n",
      "Dep. Variable:                      y   R-squared:                       0.846\n",
      "Model:                            OLS   Adj. R-squared:                  0.846\n",
      "Method:                 Least Squares   F-statistic:                 1.262e+04\n",
      "Date:                Mon, 13 Jan 2020   Prob (F-statistic):               0.00\n",
      "Time:                        21:30:34   Log-Likelihood:                -8963.6\n",
      "No. Observations:                2300   AIC:                         1.793e+04\n",
      "Df Residuals:                    2298   BIC:                         1.794e+04\n",
      "Df Model:                           1                                         \n",
      "Covariance Type:            nonrobust                                         \n",
      "==============================================================================\n",
      "                 coef    std err          t      P>|t|      [0.025      0.975]\n",
      "------------------------------------------------------------------------------\n",
      "const         -1.1328      0.324     -3.498      0.000      -1.768      -0.498\n",
      "x1             1.0706      0.010    112.320      0.000       1.052       1.089\n",
      "==============================================================================\n",
      "Omnibus:                       66.743   Durbin-Watson:                   1.958\n",
      "Prob(Omnibus):                  0.000   Jarque-Bera (JB):              116.264\n",
      "Skew:                          -0.236   Prob(JB):                     5.67e-26\n",
      "Kurtosis:                       3.995   Cond. No.                         44.3\n",
      "==============================================================================\n",
      "\n",
      "Warnings:\n",
      "[1] Standard Errors assume that the covariance matrix of the errors is correctly specified.\n"
     ]
    }
   ],
   "source": [
    "# Score\n",
    "# Fit Model\n",
    "x_vars = sm.add_constant(predictions)\n",
    "est = sm.OLS(y_var_regression_test, x_vars)\n",
    "est2 = est.fit()\n",
    "print(est2.summary())"
   ]
  },
  {
   "cell_type": "code",
   "execution_count": 14,
   "metadata": {},
   "outputs": [
    {
     "data": {
      "text/html": [
       "<div>\n",
       "<style scoped>\n",
       "    .dataframe tbody tr th:only-of-type {\n",
       "        vertical-align: middle;\n",
       "    }\n",
       "\n",
       "    .dataframe tbody tr th {\n",
       "        vertical-align: top;\n",
       "    }\n",
       "\n",
       "    .dataframe thead th {\n",
       "        text-align: right;\n",
       "    }\n",
       "</style>\n",
       "<table border=\"1\" class=\"dataframe\">\n",
       "  <thead>\n",
       "    <tr style=\"text-align: right;\">\n",
       "      <th></th>\n",
       "      <th>0</th>\n",
       "      <th>1</th>\n",
       "    </tr>\n",
       "  </thead>\n",
       "  <tbody>\n",
       "    <tr>\n",
       "      <th>0</th>\n",
       "      <td>% Population 15 Years and Over: Never Married</td>\n",
       "      <td>0.28</td>\n",
       "    </tr>\n",
       "    <tr>\n",
       "      <th>1</th>\n",
       "      <td>Evangelical Protestant</td>\n",
       "      <td>0.11</td>\n",
       "    </tr>\n",
       "    <tr>\n",
       "      <th>2</th>\n",
       "      <td>Population Density (Per Sq. Mile)</td>\n",
       "      <td>0.11</td>\n",
       "    </tr>\n",
       "    <tr>\n",
       "      <th>3</th>\n",
       "      <td>% Total Population: White Alone</td>\n",
       "      <td>0.09</td>\n",
       "    </tr>\n",
       "    <tr>\n",
       "      <th>4</th>\n",
       "      <td>College or Above</td>\n",
       "      <td>0.05</td>\n",
       "    </tr>\n",
       "    <tr>\n",
       "      <th>5</th>\n",
       "      <td>% Total population: Hispanic or Latino</td>\n",
       "      <td>0.04</td>\n",
       "    </tr>\n",
       "    <tr>\n",
       "      <th>6</th>\n",
       "      <td>Catholic</td>\n",
       "      <td>0.03</td>\n",
       "    </tr>\n",
       "    <tr>\n",
       "      <th>7</th>\n",
       "      <td>% Total Population: 35 to 64 Years</td>\n",
       "      <td>0.03</td>\n",
       "    </tr>\n",
       "    <tr>\n",
       "      <th>8</th>\n",
       "      <td>% Total Population: Black or African American ...</td>\n",
       "      <td>0.03</td>\n",
       "    </tr>\n",
       "    <tr>\n",
       "      <th>9</th>\n",
       "      <td>Mainline Protestant</td>\n",
       "      <td>0.02</td>\n",
       "    </tr>\n",
       "    <tr>\n",
       "      <th>10</th>\n",
       "      <td>% Total Population: 65 and Over</td>\n",
       "      <td>0.02</td>\n",
       "    </tr>\n",
       "    <tr>\n",
       "      <th>11</th>\n",
       "      <td>% Total Population: Asian Alone</td>\n",
       "      <td>0.02</td>\n",
       "    </tr>\n",
       "    <tr>\n",
       "      <th>12</th>\n",
       "      <td>Average Household Size</td>\n",
       "      <td>0.02</td>\n",
       "    </tr>\n",
       "    <tr>\n",
       "      <th>13</th>\n",
       "      <td>% Civilian Population 18 Years and Over: Veteran</td>\n",
       "      <td>0.02</td>\n",
       "    </tr>\n",
       "    <tr>\n",
       "      <th>14</th>\n",
       "      <td>% Civilian Population 18 Years and Over: Nonve...</td>\n",
       "      <td>0.02</td>\n",
       "    </tr>\n",
       "    <tr>\n",
       "      <th>15</th>\n",
       "      <td>Orthodox</td>\n",
       "      <td>0.01</td>\n",
       "    </tr>\n",
       "    <tr>\n",
       "      <th>16</th>\n",
       "      <td>Other Religion</td>\n",
       "      <td>0.01</td>\n",
       "    </tr>\n",
       "    <tr>\n",
       "      <th>17</th>\n",
       "      <td>Non Religious %</td>\n",
       "      <td>0.01</td>\n",
       "    </tr>\n",
       "    <tr>\n",
       "      <th>18</th>\n",
       "      <td>% Total Population: Male</td>\n",
       "      <td>0.01</td>\n",
       "    </tr>\n",
       "    <tr>\n",
       "      <th>19</th>\n",
       "      <td>% Total Population: Female</td>\n",
       "      <td>0.01</td>\n",
       "    </tr>\n",
       "    <tr>\n",
       "      <th>20</th>\n",
       "      <td>% Total Population: 18 to 34 Years</td>\n",
       "      <td>0.01</td>\n",
       "    </tr>\n",
       "    <tr>\n",
       "      <th>21</th>\n",
       "      <td>% Total Population: American Indian and Alaska...</td>\n",
       "      <td>0.01</td>\n",
       "    </tr>\n",
       "    <tr>\n",
       "      <th>22</th>\n",
       "      <td>% Population 15 Years and Over: Now Married (N...</td>\n",
       "      <td>0.01</td>\n",
       "    </tr>\n",
       "    <tr>\n",
       "      <th>23</th>\n",
       "      <td>% Population 15 Years and Over: Divorced</td>\n",
       "      <td>0.01</td>\n",
       "    </tr>\n",
       "    <tr>\n",
       "      <th>24</th>\n",
       "      <td>% Single Parent Households</td>\n",
       "      <td>0.01</td>\n",
       "    </tr>\n",
       "    <tr>\n",
       "      <th>25</th>\n",
       "      <td>Gini Index</td>\n",
       "      <td>0.01</td>\n",
       "    </tr>\n",
       "    <tr>\n",
       "      <th>26</th>\n",
       "      <td>Median Income</td>\n",
       "      <td>0.01</td>\n",
       "    </tr>\n",
       "    <tr>\n",
       "      <th>27</th>\n",
       "      <td>Black Protestant</td>\n",
       "      <td>0.00</td>\n",
       "    </tr>\n",
       "  </tbody>\n",
       "</table>\n",
       "</div>"
      ],
      "text/plain": [
       "                                                    0     1\n",
       "0       % Population 15 Years and Over: Never Married  0.28\n",
       "1                              Evangelical Protestant  0.11\n",
       "2                   Population Density (Per Sq. Mile)  0.11\n",
       "3                     % Total Population: White Alone  0.09\n",
       "4                                    College or Above  0.05\n",
       "5              % Total population: Hispanic or Latino  0.04\n",
       "6                                            Catholic  0.03\n",
       "7                  % Total Population: 35 to 64 Years  0.03\n",
       "8   % Total Population: Black or African American ...  0.03\n",
       "9                                 Mainline Protestant  0.02\n",
       "10                    % Total Population: 65 and Over  0.02\n",
       "11                    % Total Population: Asian Alone  0.02\n",
       "12                             Average Household Size  0.02\n",
       "13   % Civilian Population 18 Years and Over: Veteran  0.02\n",
       "14  % Civilian Population 18 Years and Over: Nonve...  0.02\n",
       "15                                           Orthodox  0.01\n",
       "16                                     Other Religion  0.01\n",
       "17                                    Non Religious %  0.01\n",
       "18                           % Total Population: Male  0.01\n",
       "19                         % Total Population: Female  0.01\n",
       "20                 % Total Population: 18 to 34 Years  0.01\n",
       "21  % Total Population: American Indian and Alaska...  0.01\n",
       "22  % Population 15 Years and Over: Now Married (N...  0.01\n",
       "23           % Population 15 Years and Over: Divorced  0.01\n",
       "24                         % Single Parent Households  0.01\n",
       "25                                         Gini Index  0.01\n",
       "26                                      Median Income  0.01\n",
       "27                                   Black Protestant  0.00"
      ]
     },
     "execution_count": 14,
     "metadata": {},
     "output_type": "execute_result"
    }
   ],
   "source": [
    "feature_importances"
   ]
  },
  {
   "cell_type": "code",
   "execution_count": 15,
   "metadata": {},
   "outputs": [],
   "source": [
    "import pickle\n",
    "# Save Model\n",
    "# save the model to disk\n",
    "filename = '../dataFiles/mlOutputData/random_forest_regressor.pkl'\n",
    "with open(filename, 'wb') as f:\n",
    "    pickle.dump(regressor, f)"
   ]
  },
  {
   "cell_type": "code",
   "execution_count": 16,
   "metadata": {},
   "outputs": [],
   "source": [
    "variables = [20.0, 10.0, 30.0, 5.0, 1.0, 4.0, 30.0, 500.0, 50.0, 50.0, 30.0, 30.0, 30.0, 80.0, 15.0, 0.0, 5.0, 30.0, 30.0, 40.0, 30.0, 10.0, 3.0, 30.0, 0.5, 50000.0, 20.0, 80.0]"
   ]
  },
  {
   "cell_type": "code",
   "execution_count": 25,
   "metadata": {},
   "outputs": [
    {
     "name": "stdout",
     "output_type": "stream",
     "text": [
      "<class 'numpy.ndarray'>\n"
     ]
    }
   ],
   "source": [
    "variables = np.asarray(variables).reshape(1, -1)\n",
    "print(type(variables))\n",
    "new_predictions = regressor.predict(variables)\n"
   ]
  },
  {
   "cell_type": "code",
   "execution_count": 26,
   "metadata": {},
   "outputs": [],
   "source": [
    "new_predictions = new_predictions.astype(float)[0]"
   ]
  },
  {
   "cell_type": "code",
   "execution_count": 27,
   "metadata": {},
   "outputs": [
    {
     "data": {
      "text/plain": [
       "12.703774716197286"
      ]
     },
     "execution_count": 27,
     "metadata": {},
     "output_type": "execute_result"
    }
   ],
   "source": [
    "new_predictions"
   ]
  },
  {
   "cell_type": "code",
   "execution_count": null,
   "metadata": {},
   "outputs": [],
   "source": []
  }
 ],
 "metadata": {
  "kernelspec": {
   "display_name": "Python 3",
   "language": "python",
   "name": "python3"
  },
  "language_info": {
   "codemirror_mode": {
    "name": "ipython",
    "version": 3
   },
   "file_extension": ".py",
   "mimetype": "text/x-python",
   "name": "python",
   "nbconvert_exporter": "python",
   "pygments_lexer": "ipython3",
   "version": "3.7.3"
  }
 },
 "nbformat": 4,
 "nbformat_minor": 2
}
