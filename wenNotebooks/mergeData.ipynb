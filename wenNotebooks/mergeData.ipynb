{
 "cells": [
  {
   "cell_type": "code",
   "execution_count": 1,
   "metadata": {},
   "outputs": [],
   "source": [
    "import pandas as pd"
   ]
  },
  {
   "cell_type": "code",
   "execution_count": null,
   "metadata": {},
   "outputs": [],
   "source": [
    "# Paths\n",
    "election_results_path = '../dataFiles/processedData/countypres_2000-2016_processed.csv'\n",
    "religion_path = '../dataFiles/processedData/religion_by_county_2010_processed.csv'\n",
    "demographics_path = '../dataFiles/processedData/FinalDemographics_cleaned.xlsx'\n",
    "hispanic_data_path = '../dataFiles/processedData/2010HispanicOnly.xlsx'\n",
    "education_path = '../dataFiles/processedData/education_processed.xlsx'\n",
    "income_path = '../dataFiles/processedData/income_final.xlsx'\n",
    "\n",
    "# Get Data\n",
    "election_results = pd.read_csv(election_results_path)\n",
    "religion = pd.read_csv(religion_path)\n",
    "demographics = pd.read_excel(demographics_path, sheet_name='Sheet1')\n",
    "hispanic_data = pd.read_excel(hispanic_data_path, sheet_name='Sheet1')\n",
    "education = pd.read_excel(education_path, sheet_name='Sheet1')\n",
    "incomes = pd.read_excel(income_path, sheet_name='Sheet1')"
   ]
  },
  {
   "cell_type": "code",
   "execution_count": null,
   "metadata": {
    "scrolled": true
   },
   "outputs": [],
   "source": [
    "# Make Election Results FIPS 5 Digits\n",
    "# Make Sure FIPS are 5 Digits\n",
    "# Make Int FIPS a String\n",
    "election_results['FIPS'] = election_results['FIPS'].astype(str)\n",
    "# If FIPS String is 4 Digits Long- Add 0 to Beginning\n",
    "election_results.insert(len(election_results.columns), 'Add Zero FIPS', '0' + election_results['FIPS'])\n",
    "election_results.loc[election_results['FIPS'].str.len()==4, 'FIPS'] = election_results.loc[election_results['FIPS'].str.len()==4, 'Add Zero FIPS']\n",
    "del election_results['Add Zero FIPS']\n",
    "\n",
    "election_results['totalvotes'] = election_results['totalvotes']\n",
    "election_results.insert(len(election_results.columns), 'dem_votes', election_results['totalvotes']*election_results['dem_vote_share'])\n",
    "election_results.insert(len(election_results.columns), 'rep_votes', election_results['totalvotes']*election_results['rep_vote_share'])\n",
    "election_results.insert(len(election_results.columns), 'other_votes', election_results['totalvotes']*election_results['other_vote_share'])\n",
    "# Change %s To Doubles\n",
    "election_results['dem_vote_share'] = election_results['dem_vote_share']*100\n",
    "election_results['rep_vote_share'] = election_results['rep_vote_share']*100\n",
    "election_results['other_vote_share'] = election_results['other_vote_share']*100\n",
    "election_results['republican_minus_democratic'] = election_results['republican_minus_democratic']*100\n",
    "election_results.head()"
   ]
  },
  {
   "cell_type": "code",
   "execution_count": null,
   "metadata": {},
   "outputs": [],
   "source": [
    "# Merge Religion\n",
    "# Make Sure FIPS are 5 Digits\n",
    "# Make Int FIPS a String\n",
    "religion['FIPS'] = religion['FIPS'].astype(str)\n",
    "# If FIPS String is 4 Digits Long- Add 0 to Beginning\n",
    "religion.insert(len(religion.columns), 'Add Zero FIPS', '0' + religion['FIPS'])\n",
    "religion.loc[religion['FIPS'].str.len()==4, 'FIPS'] = religion.loc[religion['FIPS'].str.len()==4, 'Add Zero FIPS']\n",
    "del religion['Add Zero FIPS']\n",
    "# Make Religion Same For 2008, 2012, 2016\n",
    "religion_2008 = religion.copy()\n",
    "religion_2012 = religion.copy()\n",
    "religion_2016 = religion.copy()\n",
    "religion_2008['Year'] = '2008'\n",
    "religion_2012['Year'] = '2012'\n",
    "religion_2016['Year'] = '2016'\n",
    "religion = religion_2008.append(religion_2012).append(religion_2016).reset_index(drop=True)\n",
    "# Make FIPS/Year Lookup Key\n",
    "religion.insert(len(religion.columns), 'FIPS/Year',religion['Year'].astype(str) + '/' + religion['FIPS'])\n",
    "# Merge Religion Using Lookup Key\n",
    "religion.rename(columns={'Other':'Other Religion'}, inplace=True)\n",
    "election_results = election_results.merge(religion[['FIPS/Year','Evangelical Protestant','Black Protestant', 'Mainline Protestant','Catholic','Orthodox','Other Religion']], how='left', on='FIPS/Year')\n",
    "# Change %s to Doubles\n",
    "election_results['Evangelical Protestant'] = election_results['Evangelical Protestant']*100\n",
    "election_results['Black Protestant'] = election_results['Black Protestant']*100\n",
    "election_results['Mainline Protestant'] = election_results['Mainline Protestant']*100\n",
    "election_results['Catholic'] = election_results['Catholic']*100\n",
    "election_results['Orthodox'] = election_results['Orthodox']*100\n",
    "election_results['Other Religion'] = election_results['Other Religion']*100\n",
    "election_results.head()"
   ]
  },
  {
   "cell_type": "code",
   "execution_count": null,
   "metadata": {},
   "outputs": [],
   "source": [
    "# Merge Demographics\n",
    "del demographics['FIPS/Year']\n",
    "# Make Sure FIPS are 5 Digits\n",
    "# Make Int FIPS a String\n",
    "demographics['FIPS'] = demographics['FIPS'].astype(str)\n",
    "# If FIPS String is 4 Digits Long- Add 0 to Beginning\n",
    "demographics.insert(len(religion.columns), 'Add Zero FIPS', '0' + demographics['FIPS'])\n",
    "demographics.loc[demographics['FIPS'].str.len()==4, 'FIPS'] = demographics.loc[demographics['FIPS'].str.len()==4, 'Add Zero FIPS']\n",
    "del demographics['Add Zero FIPS']\n",
    "# Make FIPS/Year Lookup Key\n",
    "demographics.insert(len(demographics.columns), 'FIPS/Year',demographics['year'].astype(str) + '/' + demographics['FIPS'])\n",
    "demographics.insert(len(demographics.columns), '% Single Parent Households',demographics['% Households: Family Households: Other Family: Male Householder, No Wife Present'] + demographics['% Households: Family Households: Other Family: Female Householder, No Husband Present'])\n",
    "\n",
    "#Get Columns\n",
    "columns_to_get = ['FIPS/Year',\n",
    "'Total Population',\n",
    "'Population Density (Per Sq. Mile)',\n",
    "'% Total Population: Male', \n",
    "'% Total Population: Female',\n",
    "'% Total Population: Under 18 Years',\n",
    "'% Total Population: 18 to 34 Years',\n",
    "'% Total Population: 35 to 64 Years',\n",
    "'% Total Population: 65 and Over',\n",
    "'% Total Population: White Alone',\n",
    "'% Total Population: Black or African American Alone',\n",
    "'% Total Population: American Indian and Alaska Native Alone',\n",
    "'% Total Population: Asian Alone',\n",
    "'% Total Population: Native Hawaiian and Other Pacific Islander Alone',\n",
    "'% Total Population: Some Other Race Alone',\n",
    "'% Total Population: Two or More Races',\n",
    "'% Population 15 Years and Over: Never Married',\n",
    "'% Population 15 Years and Over: Now Married (Not Including Separated)',\n",
    "'% Population 15 Years and Over: Separated',\n",
    "'% Population 15 Years and Over: Widowed',\n",
    "'% Population 15 Years and Over: Divorced',\n",
    "'Average Household Size',\n",
    "'Gini Index',\n",
    "'% Civilian Population 18 Years and Over: Veteran',\n",
    "'% Civilian Population 18 Years and Over: Nonveteran',\n",
    "'% Single Parent Households']\n",
    "\n",
    "# Merge Demographics Using Lookup Key\n",
    "election_results = election_results.merge(demographics[columns_to_get], how='left', on='FIPS/Year')\n",
    "election_results.head()"
   ]
  },
  {
   "cell_type": "code",
   "execution_count": null,
   "metadata": {},
   "outputs": [],
   "source": [
    "# Demographics- Get Hispanic\n",
    "# Make Sure FIPS are 5 Digits\n",
    "# Make Int FIPS a String\n",
    "hispanic_data['FIPS'] = hispanic_data['FIPS'].astype(str)\n",
    "# If FIPS String is 4 Digits Long- Add 0 to Beginning\n",
    "hispanic_data.insert(len(hispanic_data.columns), 'Add Zero FIPS', '0' + hispanic_data['FIPS'])\n",
    "hispanic_data.loc[hispanic_data['FIPS'].str.len()==4, 'FIPS'] = hispanic_data.loc[hispanic_data['FIPS'].str.len()==4, 'Add Zero FIPS']\n",
    "del hispanic_data['Add Zero FIPS']\n",
    "hispanic_data_2008 = hispanic_data[['FIPS', '% Total population: Hispanic or Latino']].copy()\n",
    "hispanic_data_2012 = hispanic_data[['FIPS', '% Total population: Hispanic or Latino']].copy()\n",
    "hispanic_data_2016 = hispanic_data[['FIPS', '% Total population: Hispanic or Latino']].copy()\n",
    "hispanic_data_2008.insert(len(hispanic_data_2008.columns), 'Year', 2008)\n",
    "hispanic_data_2012.insert(len(hispanic_data_2012.columns), 'Year', 2012)\n",
    "hispanic_data_2016.insert(len(hispanic_data_2016.columns), 'Year', 2016)\n",
    "\n",
    "hispanic_data = hispanic_data_2008.append(hispanic_data_2012).append(hispanic_data_2016).reset_index(drop=True)\n",
    "\n",
    "# Make FIPS/Year Lookup Key\n",
    "hispanic_data.insert(len(hispanic_data.columns), 'FIPS/Year',hispanic_data['Year'].astype(str) + '/' + hispanic_data['FIPS'])\n",
    "# Merge Education Using Lookup Key\n",
    "election_results = election_results.merge(hispanic_data[['FIPS/Year','% Total population: Hispanic or Latino']], how='left', on='FIPS/Year')\n",
    "election_results.head()"
   ]
  },
  {
   "cell_type": "code",
   "execution_count": null,
   "metadata": {},
   "outputs": [],
   "source": [
    "# Clean Education\n",
    "# Drop Duplicates\n",
    "education = education.drop_duplicates(subset=['FIPS','Year']).reset_index(drop=True)\n",
    "# Only Keep 2012 and 2016\n",
    "education_2012 = education.loc[education['Year']==2012,:].copy().reset_index(drop=True)\n",
    "education_2016 = education.loc[education['Year']==2016,:].copy().reset_index(drop=True)\n",
    "# Make 2008 the Same As 2012\n",
    "education_2008 = education_2012.copy()\n",
    "education_2008['Year'] = 2008\n",
    "education = education_2008.append(education_2012).append(education_2016)\n",
    "# Convert To Percentages\n",
    "education[\"High school graduate (includes equivalency)\"] = education[\"High school graduate (includes equivalency)\"]/education[\"Total\"]*100\n",
    "education[\"Some college or associate's degree\"] = education[\"Some college or associate's degree\"]/education[\"Total\"]*100\n",
    "education[\"Bachelor's degree\"] = education[\"Bachelor's degree\"]/education[\"Total\"]*100\n",
    "education[\"Graduate or professional degree\"] = education[\"Graduate or professional degree\"]/education[\"Total\"]*100\n",
    "education.insert(len(education.columns), \"College or Above\", education[\"Bachelor's degree\"] + education[\"Graduate or professional degree\"])\n",
    "# Simplify Names\n",
    "education.rename(columns={\"High school graduate (includes equivalency)\":'High School'}, inplace=True)\n",
    "education.rename(columns={\"Some college or associate's degree\":'Associates or Some College'}, inplace=True)\n",
    "education.rename(columns={\"Bachelor's degree\":'College'}, inplace=True)\n",
    "education.rename(columns={\"Graduate or professional degree\":'Graduate School'}, inplace=True)\n",
    "\n",
    "education = education[['FIPS', 'Year', 'High School', 'Associates or Some College', 'College', 'Graduate School', 'College or Above']].copy()"
   ]
  },
  {
   "cell_type": "code",
   "execution_count": null,
   "metadata": {},
   "outputs": [],
   "source": [
    "# Merge Education\n",
    "# Make Sure FIPS are 5 Digits\n",
    "# Make Int FIPS a String\n",
    "education['FIPS'] = education['FIPS'].astype(str)\n",
    "# If FIPS String is 4 Digits Long- Add 0 to Beginning\n",
    "education.insert(len(education.columns), 'Add Zero FIPS', '0' + education['FIPS'])\n",
    "education.loc[education['FIPS'].str.len()==4, 'FIPS'] = education.loc[education['FIPS'].str.len()==4, 'Add Zero FIPS']\n",
    "del education['Add Zero FIPS']\n",
    "# Make FIPS/Year Lookup Key\n",
    "education.insert(len(education.columns), 'FIPS/Year',education['Year'].astype(str) + '/' + education['FIPS'])\n",
    "# Merge Education Using Lookup Key\n",
    "election_results = election_results.merge(education[['FIPS/Year','High School', 'Associates or Some College', 'College', 'Graduate School', 'College or Above']], how='left', on='FIPS/Year')\n",
    "election_results.head()"
   ]
  },
  {
   "cell_type": "code",
   "execution_count": null,
   "metadata": {},
   "outputs": [],
   "source": [
    "# Economic Data\n",
    "# Make Sure FIPS are 5 Digits\n",
    "# Make Int FIPS a String\n",
    "incomes['FIPS'] = incomes['FIPS'].astype(str)\n",
    "# If FIPS String is 4 Digits Long- Add 0 to Beginning\n",
    "incomes.insert(len(incomes.columns), 'Add Zero FIPS', '0' + incomes['FIPS'])\n",
    "incomes.loc[incomes['FIPS'].str.len()==4, 'FIPS'] = incomes.loc[incomes['FIPS'].str.len()==4, 'Add Zero FIPS']\n",
    "del incomes['Add Zero FIPS']"
   ]
  },
  {
   "cell_type": "code",
   "execution_count": null,
   "metadata": {
    "scrolled": true
   },
   "outputs": [],
   "source": [
    "# Make 1 DF\n",
    "incomes_2008 = incomes[['FIPS','Median household income 2010']].copy()\n",
    "incomes_2012 = incomes[['FIPS','Median Household income 2012']].copy()\n",
    "incomes_2016 = incomes[['FIPS','Median Household income 2016']].copy()\n",
    "incomes_2008.rename(columns={'Median household income 2010':'Median Income'}, inplace=True)\n",
    "incomes_2012.rename(columns={'Median Household income 2012':'Median Income'}, inplace=True)\n",
    "incomes_2016.rename(columns={'Median Household income 2016':'Median Income'}, inplace=True)\n",
    "incomes_2008.insert(len(incomes_2008.columns), 'Year', 2008)\n",
    "incomes_2012.insert(len(incomes_2012.columns), 'Year', 2012)\n",
    "incomes_2016.insert(len(incomes_2016.columns), 'Year', 2016)\n",
    "incomes = incomes_2008.append(incomes_2012).append(incomes_2016).reset_index(drop=True)\n",
    "\n",
    "# Make FIPS/Year Lookup Key\n",
    "incomes.insert(len(incomes.columns), 'FIPS/Year',incomes['Year'].astype(str) + '/' + incomes['FIPS'])\n",
    "                 \n",
    "# Merge Income Using Lookup Key\n",
    "election_results = election_results.merge(incomes[['FIPS/Year','Median Income']], how='left', on='FIPS/Year')\n",
    "election_results.head()"
   ]
  },
  {
   "cell_type": "code",
   "execution_count": null,
   "metadata": {},
   "outputs": [],
   "source": [
    "# Export Final Dataframe\n",
    "output_path  = '../dataFiles/mergedData/election_results_with_variables.xlsx'\n",
    "election_results.to_excel(output_path,index=False)"
   ]
  },
  {
   "cell_type": "code",
   "execution_count": null,
   "metadata": {},
   "outputs": [],
   "source": [
    "election_results.info()"
   ]
  },
  {
   "cell_type": "code",
   "execution_count": null,
   "metadata": {},
   "outputs": [],
   "source": []
  },
  {
   "cell_type": "code",
   "execution_count": null,
   "metadata": {},
   "outputs": [],
   "source": []
  }
 ],
 "metadata": {
  "kernelspec": {
   "display_name": "Python 3",
   "language": "python",
   "name": "python3"
  },
  "language_info": {
   "codemirror_mode": {
    "name": "ipython",
    "version": 3
   },
   "file_extension": ".py",
   "mimetype": "text/x-python",
   "name": "python",
   "nbconvert_exporter": "python",
   "pygments_lexer": "ipython3",
   "version": "3.7.3"
  }
 },
 "nbformat": 4,
 "nbformat_minor": 2
}
