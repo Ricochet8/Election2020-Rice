{
 "cells": [
  {
   "cell_type": "code",
   "execution_count": 1,
   "metadata": {},
   "outputs": [],
   "source": [
    "import numpy as np\n",
    "import statsmodels.api as sm"
   ]
  },
  {
   "cell_type": "code",
   "execution_count": 2,
   "metadata": {},
   "outputs": [],
   "source": [
    "# Load Numpy Arrays (Split Data)\n",
    "path = '../dataFiles/mlInputData/x_vars_changes.npy'\n",
    "x_vars =np.load(path)\n",
    "path = '../dataFiles/mlInputData/y_var_numeric_changes.npy'\n",
    "y_var_numeric = np.load(path)"
   ]
  },
  {
   "cell_type": "code",
   "execution_count": 3,
   "metadata": {},
   "outputs": [
    {
     "name": "stdout",
     "output_type": "stream",
     "text": [
      "                            OLS Regression Results                            \n",
      "==============================================================================\n",
      "Dep. Variable:                      y   R-squared:                       0.562\n",
      "Model:                            OLS   Adj. R-squared:                  0.562\n",
      "Method:                 Least Squares   F-statistic:                     788.0\n",
      "Date:                Sat, 11 Jan 2020   Prob (F-statistic):               0.00\n",
      "Time:                        15:40:55   Log-Likelihood:                -10234.\n",
      "No. Observations:                3072   AIC:                         2.048e+04\n",
      "Df Residuals:                    3066   BIC:                         2.052e+04\n",
      "Df Model:                           5                                         \n",
      "Covariance Type:            nonrobust                                         \n",
      "==============================================================================\n",
      "                 coef    std err          t      P>|t|      [0.025      0.975]\n",
      "------------------------------------------------------------------------------\n",
      "const         24.5437      0.374     65.589      0.000      23.810      25.277\n",
      "x1             0.1755      0.013     13.407      0.000       0.150       0.201\n",
      "x2             0.1568      0.011     14.590      0.000       0.136       0.178\n",
      "x3            -0.1757      0.009    -19.972      0.000      -0.193      -0.158\n",
      "x4            -0.2950      0.010    -28.526      0.000      -0.315      -0.275\n",
      "x5            -0.6570      0.013    -49.339      0.000      -0.683      -0.631\n",
      "==============================================================================\n",
      "Omnibus:                      384.817   Durbin-Watson:                   1.306\n",
      "Prob(Omnibus):                  0.000   Jarque-Bera (JB):             1485.882\n",
      "Skew:                          -0.578   Prob(JB):                         0.00\n",
      "Kurtosis:                       6.205   Cond. No.                         96.8\n",
      "==============================================================================\n",
      "\n",
      "Warnings:\n",
      "[1] Standard Errors assume that the covariance matrix of the errors is correctly specified.\n"
     ]
    }
   ],
   "source": [
    "# Fit Model\n",
    "x_vars = sm.add_constant(x_vars)\n",
    "est = sm.OLS(y_var_numeric, x_vars)\n",
    "est2 = est.fit()\n",
    "print(est2.summary())"
   ]
  },
  {
   "cell_type": "code",
   "execution_count": null,
   "metadata": {},
   "outputs": [],
   "source": []
  },
  {
   "cell_type": "code",
   "execution_count": null,
   "metadata": {},
   "outputs": [],
   "source": []
  },
  {
   "cell_type": "code",
   "execution_count": null,
   "metadata": {},
   "outputs": [],
   "source": []
  },
  {
   "cell_type": "code",
   "execution_count": null,
   "metadata": {},
   "outputs": [],
   "source": []
  }
 ],
 "metadata": {
  "kernelspec": {
   "display_name": "Python 3",
   "language": "python",
   "name": "python3"
  },
  "language_info": {
   "codemirror_mode": {
    "name": "ipython",
    "version": 3
   },
   "file_extension": ".py",
   "mimetype": "text/x-python",
   "name": "python",
   "nbconvert_exporter": "python",
   "pygments_lexer": "ipython3",
   "version": "3.7.3"
  }
 },
 "nbformat": 4,
 "nbformat_minor": 2
}
