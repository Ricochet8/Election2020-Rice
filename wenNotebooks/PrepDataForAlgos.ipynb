{
 "cells": [
  {
   "cell_type": "code",
   "execution_count": 1,
   "metadata": {},
   "outputs": [],
   "source": [
    "import pandas as pd\n",
    "import numpy as np\n",
    "from sklearn.model_selection import train_test_split"
   ]
  },
  {
   "cell_type": "code",
   "execution_count": 2,
   "metadata": {},
   "outputs": [],
   "source": [
    "path = '../dataFiles/mergedData/election_results_with_variables_no_blanks.xlsx'\n",
    "election_data = pd.read_excel(path, sheet_name='Sheet1')"
   ]
  },
  {
   "cell_type": "code",
   "execution_count": 3,
   "metadata": {},
   "outputs": [],
   "source": [
    "# Make Rep or Dem Victory Binary\n",
    "election_data.insert(len(election_data.columns), 'winning_party_binary', 0)\n",
    "# If Rep Victory = 1, if Dem Victory = 0\n",
    "election_data.loc[election_data['winning_party'] == 'Republican', 'winning_party_binary'] = 1"
   ]
  },
  {
   "cell_type": "code",
   "execution_count": 4,
   "metadata": {},
   "outputs": [],
   "source": [
    "# Make Big Numbers In Thousands\n",
    "election_data.insert(len(election_data.columns), 'Population Density (Thousand Per Sq. Mile)', election_data['Population Density (Per Sq. Mile)']/1000)\n",
    "election_data.insert(len(election_data.columns), 'Median Income (Thousands)', election_data['Median Income']/1000)"
   ]
  },
  {
   "cell_type": "code",
   "execution_count": 5,
   "metadata": {},
   "outputs": [],
   "source": [
    "columns_to_keep =  [\n",
    "'Evangelical Protestant',\n",
    "'Population Density (Thousand Per Sq. Mile)',\n",
    "'% Total Population: Male',\n",
    "'% Total Population: 35 to 64 Years',\n",
    "'% Total Population: Black or African American Alone',\n",
    "'% Total population: Hispanic or Latino',\n",
    "'% Population 15 Years and Over: Never Married',\n",
    "'Average Household Size',\n",
    "'College or Above',\n",
    "'Median Income (Thousands)']"
   ]
  },
  {
   "cell_type": "code",
   "execution_count": 6,
   "metadata": {},
   "outputs": [],
   "source": [
    "columns_to_keep_original =  [\n",
    "'Evangelical Protestant',\n",
    "'Black Protestant',\n",
    "'Mainline Protestant',\n",
    "'Catholic',\n",
    "'Orthodox',\n",
    "'Other Religion',\n",
    "'Non Religious %',     \n",
    "'Population Density (Per Sq. Mile)',\n",
    "'% Total Population: Male',\n",
    "'% Total Population: Female',\n",
    "'% Total Population: 18 to 34 Years',\n",
    "'% Total Population: 35 to 64 Years',\n",
    "'% Total Population: 65 and Over',\n",
    "'% Total Population: White Alone',\n",
    "'% Total Population: Black or African American Alone',\n",
    "'% Total Population: American Indian and Alaska Native Alone',\n",
    "'% Total Population: Asian Alone',\n",
    "'% Total population: Hispanic or Latino',\n",
    "'% Population 15 Years and Over: Never Married',\n",
    "'% Population 15 Years and Over: Now Married (Not Including Separated)',\n",
    "'% Population 15 Years and Over: Divorced',\n",
    "'% Single Parent Households',\n",
    "'Average Household Size',\n",
    "'College or Above',\n",
    "'Gini Index',\n",
    "'Median Income',\n",
    "'% Civilian Population 18 Years and Over: Veteran',\n",
    "'% Civilian Population 18 Years and Over: Nonveteran',\n",
    "]"
   ]
  },
  {
   "cell_type": "code",
   "execution_count": 7,
   "metadata": {},
   "outputs": [],
   "source": [
    "# Make Numpy Arrays of (All Data for Linear Regression)\n",
    "x_vars = election_data[columns_to_keep].copy()\n",
    "y_var_binary = election_data['winning_party_binary']\n",
    "y_var_numeric = election_data['republican_minus_democratic']\n",
    "x_vars = x_vars.to_numpy()\n",
    "y_var_numeric = y_var_numeric.to_numpy()\n",
    "y_var_binary = y_var_binary.to_numpy()\n",
    "# Save Numpy Arrays (All Data)\n",
    "path = '../dataFiles/mlInputData/x_vars.npy'\n",
    "np.save(path, x_vars)\n",
    "path = '../dataFiles/mlInputData/y_var_binary.npy'\n",
    "np.save(path, y_var_binary)\n",
    "path = '../dataFiles/mlInputData/y_var_numeric.npy'\n",
    "np.save(path, y_var_numeric)"
   ]
  },
  {
   "cell_type": "code",
   "execution_count": 8,
   "metadata": {},
   "outputs": [],
   "source": [
    "# Split Data Into Training and Validation\n",
    "x_vars = election_data[columns_to_keep_original].copy()\n",
    "x_vars_classify_train, x_vars_classify_test, y_var_classify_train, y_var_classify_test = train_test_split(x_vars, y_var_binary, random_state=42)"
   ]
  },
  {
   "cell_type": "code",
   "execution_count": 9,
   "metadata": {},
   "outputs": [],
   "source": [
    "# Save Numpy Arrays (Split Data for Neural Net)\n",
    "path = '../dataFiles/mlInputData/x_vars_classify_train.npy'\n",
    "np.save(path, x_vars_classify_train)\n",
    "path = '../dataFiles/mlInputData/x_vars_classify_test.npy'\n",
    "np.save(path, x_vars_classify_test)\n",
    "path = '../dataFiles/mlInputData/y_var_classify_train.npy'\n",
    "np.save(path, y_var_classify_train)\n",
    "path = '../dataFiles/mlInputData/y_var_classify_test.npy'\n",
    "np.save(path, y_var_classify_test)"
   ]
  },
  {
   "cell_type": "code",
   "execution_count": 10,
   "metadata": {},
   "outputs": [],
   "source": [
    "# Split Data Into Training and Validation (Random Forest Regression)\n",
    "x_vars = election_data[columns_to_keep_original].copy()\n",
    "x_vars_regression_train, x_vars_regression_test, y_var_regression_train, y_var_regression_test = train_test_split(x_vars, y_var_numeric, random_state=42)"
   ]
  },
  {
   "cell_type": "code",
   "execution_count": 11,
   "metadata": {},
   "outputs": [],
   "source": [
    "# Save Numpy Arrays (Split Data)\n",
    "path = '../dataFiles/mlInputData/x_vars_regression_train.npy'\n",
    "np.save(path, x_vars_regression_train)\n",
    "path = '../dataFiles/mlInputData/x_vars_regression_test.npy'\n",
    "np.save(path, x_vars_regression_test)\n",
    "path = '../dataFiles/mlInputData/y_var_regression_train.npy'\n",
    "np.save(path, y_var_regression_train)\n",
    "path = '../dataFiles/mlInputData/y_var_regression_test.npy'\n",
    "np.save(path, y_var_regression_test)"
   ]
  },
  {
   "cell_type": "code",
   "execution_count": 12,
   "metadata": {},
   "outputs": [
    {
     "data": {
      "text/plain": [
       "28"
      ]
     },
     "execution_count": 12,
     "metadata": {},
     "output_type": "execute_result"
    }
   ],
   "source": [
    "len(columns_to_keep_original)"
   ]
  },
  {
   "cell_type": "code",
   "execution_count": null,
   "metadata": {},
   "outputs": [],
   "source": []
  }
 ],
 "metadata": {
  "kernelspec": {
   "display_name": "Python 3",
   "language": "python",
   "name": "python3"
  },
  "language_info": {
   "codemirror_mode": {
    "name": "ipython",
    "version": 3
   },
   "file_extension": ".py",
   "mimetype": "text/x-python",
   "name": "python",
   "nbconvert_exporter": "python",
   "pygments_lexer": "ipython3",
   "version": "3.7.3"
  }
 },
 "nbformat": 4,
 "nbformat_minor": 2
}
