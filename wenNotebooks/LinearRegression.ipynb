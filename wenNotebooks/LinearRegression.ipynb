{
 "cells": [
  {
   "cell_type": "code",
   "execution_count": 1,
   "metadata": {},
   "outputs": [],
   "source": [
    "import numpy as np\n",
    "import statsmodels.api as sm"
   ]
  },
  {
   "cell_type": "code",
   "execution_count": 2,
   "metadata": {},
   "outputs": [],
   "source": [
    "# Load Numpy Arrays (Split Data)\n",
    "path = '../dataFiles/mlInputData/x_vars.npy'\n",
    "x_vars =np.load(path)\n",
    "path = '../dataFiles/mlInputData/y_var_numeric.npy'\n",
    "y_var_numeric = np.load(path)"
   ]
  },
  {
   "cell_type": "code",
   "execution_count": 3,
   "metadata": {},
   "outputs": [
    {
     "name": "stdout",
     "output_type": "stream",
     "text": [
      "                                 OLS Regression Results                                \n",
      "=======================================================================================\n",
      "Dep. Variable:                      y   R-squared (uncentered):                   0.734\n",
      "Model:                            OLS   Adj. R-squared (uncentered):              0.733\n",
      "Method:                 Least Squares   F-statistic:                              2531.\n",
      "Date:                Sat, 11 Jan 2020   Prob (F-statistic):                        0.00\n",
      "Time:                        14:07:51   Log-Likelihood:                         -40365.\n",
      "No. Observations:                9198   AIC:                                  8.075e+04\n",
      "Df Residuals:                    9188   BIC:                                  8.082e+04\n",
      "Df Model:                          10                                                  \n",
      "Covariance Type:            nonrobust                                                  \n",
      "==============================================================================\n",
      "                 coef    std err          t      P>|t|      [0.025      0.975]\n",
      "------------------------------------------------------------------------------\n",
      "x1             0.5645      0.014     39.280      0.000       0.536       0.593\n",
      "x2            -0.4241      0.120     -3.540      0.000      -0.659      -0.189\n",
      "x3             2.9914      0.071     41.999      0.000       2.852       3.131\n",
      "x4            -2.4606      0.068    -35.963      0.000      -2.595      -2.326\n",
      "x5            -0.3850      0.019    -19.775      0.000      -0.423      -0.347\n",
      "x6            -0.3987      0.018    -22.265      0.000      -0.434      -0.364\n",
      "x7            -2.3938      0.050    -47.738      0.000      -2.492      -2.296\n",
      "x8            11.9103      0.926     12.864      0.000      10.095      13.725\n",
      "x9            -0.3380      0.035     -9.752      0.000      -0.406      -0.270\n",
      "x10            0.1185      0.023      5.162      0.000       0.074       0.164\n",
      "==============================================================================\n",
      "Omnibus:                       59.454   Durbin-Watson:                   1.220\n",
      "Prob(Omnibus):                  0.000   Jarque-Bera (JB):               62.681\n",
      "Skew:                          -0.173   Prob(JB):                     2.45e-14\n",
      "Kurtosis:                       3.208   Cond. No.                         422.\n",
      "==============================================================================\n",
      "\n",
      "Warnings:\n",
      "[1] Standard Errors assume that the covariance matrix of the errors is correctly specified.\n"
     ]
    }
   ],
   "source": [
    "# Fit Model\n",
    "X2 = sm.add_constant(x_vars)\n",
    "est = sm.OLS(y_var_numeric, x_vars)\n",
    "est2 = est.fit()\n",
    "print(est2.summary())"
   ]
  },
  {
   "cell_type": "code",
   "execution_count": 4,
   "metadata": {},
   "outputs": [],
   "source": [
    "columns_to_keep =  [\n",
    "'Evangelical Protestant',\n",
    "'Black Protestant',\n",
    "'Mainline Protestant',\n",
    "'Catholic',\n",
    "'Orthodox',\n",
    "'Other Religion',\n",
    "'Non Religious %',\n",
    "                    \n",
    "'Population Density (Per Sq. Mile)',\n",
    "'% Total Population: Male',\n",
    "'% Total Population: Female',\n",
    "\n",
    "'% Total Population: 18 to 34 Years',\n",
    "'% Total Population: 35 to 64 Years',\n",
    "'% Total Population: 65 and Over',\n",
    "    \n",
    "'% Total Population: White Alone',\n",
    "'% Total Population: Black or African American Alone',\n",
    "'% Total Population: American Indian and Alaska Native Alone',\n",
    "'% Total Population: Asian Alone',\n",
    "'% Total population: Hispanic or Latino',\n",
    "    \n",
    "'% Population 15 Years and Over: Never Married',\n",
    "'% Population 15 Years and Over: Now Married (Not Including Separated)',\n",
    "'% Population 15 Years and Over: Divorced',\n",
    "'% Single Parent Households',\n",
    "'Average Household Size',\n",
    "\n",
    "'College or Above',\n",
    "'Gini Index',\n",
    "'Median Income',\n",
    "\n",
    "'% Civilian Population 18 Years and Over: Veteran',\n",
    "'% Civilian Population 18 Years and Over: Nonveteran',\n",
    "]"
   ]
  },
  {
   "cell_type": "code",
   "execution_count": 5,
   "metadata": {},
   "outputs": [
    {
     "data": {
      "text/plain": [
       "28"
      ]
     },
     "execution_count": 5,
     "metadata": {},
     "output_type": "execute_result"
    }
   ],
   "source": [
    "len(columns_to_keep)"
   ]
  },
  {
   "cell_type": "code",
   "execution_count": 6,
   "metadata": {},
   "outputs": [
    {
     "data": {
      "text/plain": [
       "'% Population 15 Years and Over: Now Married (Not Including Separated)'"
      ]
     },
     "execution_count": 6,
     "metadata": {},
     "output_type": "execute_result"
    }
   ],
   "source": [
    "columns_to_keep[19]"
   ]
  },
  {
   "cell_type": "code",
   "execution_count": null,
   "metadata": {},
   "outputs": [],
   "source": []
  }
 ],
 "metadata": {
  "kernelspec": {
   "display_name": "Python 3",
   "language": "python",
   "name": "python3"
  },
  "language_info": {
   "codemirror_mode": {
    "name": "ipython",
    "version": 3
   },
   "file_extension": ".py",
   "mimetype": "text/x-python",
   "name": "python",
   "nbconvert_exporter": "python",
   "pygments_lexer": "ipython3",
   "version": "3.7.3"
  }
 },
 "nbformat": 4,
 "nbformat_minor": 2
}
