{
 "cells": [
  {
   "cell_type": "code",
   "execution_count": 1,
   "metadata": {},
   "outputs": [],
   "source": [
    "import numpy as np\n",
    "import statsmodels.api as sm"
   ]
  },
  {
   "cell_type": "code",
   "execution_count": 2,
   "metadata": {},
   "outputs": [],
   "source": [
    "# Load Numpy Arrays (Split Data)\n",
    "path = '../dataFiles/mlInputData/x_vars.npy'\n",
    "x_vars =np.load(path)\n",
    "path = '../dataFiles/mlInputData/y_var_numeric.npy'\n",
    "y_var_numeric = np.load(path)"
   ]
  },
  {
   "cell_type": "code",
   "execution_count": 3,
   "metadata": {},
   "outputs": [
    {
     "name": "stdout",
     "output_type": "stream",
     "text": [
      "                            OLS Regression Results                            \n",
      "==============================================================================\n",
      "Dep. Variable:                      y   R-squared:                       0.584\n",
      "Model:                            OLS   Adj. R-squared:                  0.584\n",
      "Method:                 Least Squares   F-statistic:                     1292.\n",
      "Date:                Sat, 11 Jan 2020   Prob (F-statistic):               0.00\n",
      "Time:                        15:40:49   Log-Likelihood:                -40360.\n",
      "No. Observations:                9198   AIC:                         8.074e+04\n",
      "Df Residuals:                    9187   BIC:                         8.082e+04\n",
      "Df Model:                          10                                         \n",
      "Covariance Type:            nonrobust                                         \n",
      "==============================================================================\n",
      "                 coef    std err          t      P>|t|      [0.025      0.975]\n",
      "------------------------------------------------------------------------------\n",
      "const        -18.9829      6.009     -3.159      0.002     -30.761      -7.205\n",
      "x1             0.5750      0.015     38.996      0.000       0.546       0.604\n",
      "x2            -0.4116      0.120     -3.436      0.001      -0.646      -0.177\n",
      "x3             3.1984      0.097     33.057      0.000       3.009       3.388\n",
      "x4            -2.3578      0.076    -31.133      0.000      -2.506      -2.209\n",
      "x5            -0.3892      0.020    -19.955      0.000      -0.427      -0.351\n",
      "x6            -0.4100      0.018    -22.462      0.000      -0.446      -0.374\n",
      "x7            -2.3918      0.050    -47.716      0.000      -2.490      -2.293\n",
      "x8            13.6617      1.079     12.665      0.000      11.547      15.776\n",
      "x9            -0.3004      0.037     -8.201      0.000      -0.372      -0.229\n",
      "x10            0.1024      0.024      4.359      0.000       0.056       0.149\n",
      "==============================================================================\n",
      "Omnibus:                       61.936   Durbin-Watson:                   1.223\n",
      "Prob(Omnibus):                  0.000   Jarque-Bera (JB):               65.718\n",
      "Skew:                          -0.175   Prob(JB):                     5.36e-15\n",
      "Kurtosis:                       3.221   Cond. No.                     2.75e+03\n",
      "==============================================================================\n",
      "\n",
      "Warnings:\n",
      "[1] Standard Errors assume that the covariance matrix of the errors is correctly specified.\n",
      "[2] The condition number is large, 2.75e+03. This might indicate that there are\n",
      "strong multicollinearity or other numerical problems.\n"
     ]
    }
   ],
   "source": [
    "# Fit Model\n",
    "x_vars = sm.add_constant(x_vars)\n",
    "est = sm.OLS(y_var_numeric, x_vars)\n",
    "est2 = est.fit()\n",
    "print(est2.summary())"
   ]
  },
  {
   "cell_type": "code",
   "execution_count": 4,
   "metadata": {},
   "outputs": [],
   "source": [
    "columns_to_keep =  [\n",
    "'Evangelical Protestant',\n",
    "'Black Protestant',\n",
    "'Mainline Protestant',\n",
    "'Catholic',\n",
    "'Orthodox',\n",
    "'Other Religion',\n",
    "'Non Religious %',\n",
    "                    \n",
    "'Population Density (Per Sq. Mile)',\n",
    "'% Total Population: Male',\n",
    "'% Total Population: Female',\n",
    "\n",
    "'% Total Population: 18 to 34 Years',\n",
    "'% Total Population: 35 to 64 Years',\n",
    "'% Total Population: 65 and Over',\n",
    "    \n",
    "'% Total Population: White Alone',\n",
    "'% Total Population: Black or African American Alone',\n",
    "'% Total Population: American Indian and Alaska Native Alone',\n",
    "'% Total Population: Asian Alone',\n",
    "'% Total population: Hispanic or Latino',\n",
    "    \n",
    "'% Population 15 Years and Over: Never Married',\n",
    "'% Population 15 Years and Over: Now Married (Not Including Separated)',\n",
    "'% Population 15 Years and Over: Divorced',\n",
    "'% Single Parent Households',\n",
    "'Average Household Size',\n",
    "\n",
    "'College or Above',\n",
    "'Gini Index',\n",
    "'Median Income',\n",
    "\n",
    "'% Civilian Population 18 Years and Over: Veteran',\n",
    "'% Civilian Population 18 Years and Over: Nonveteran',\n",
    "]"
   ]
  },
  {
   "cell_type": "code",
   "execution_count": 5,
   "metadata": {},
   "outputs": [
    {
     "data": {
      "text/plain": [
       "28"
      ]
     },
     "execution_count": 5,
     "metadata": {},
     "output_type": "execute_result"
    }
   ],
   "source": [
    "len(columns_to_keep)"
   ]
  },
  {
   "cell_type": "code",
   "execution_count": 6,
   "metadata": {},
   "outputs": [
    {
     "data": {
      "text/plain": [
       "'% Population 15 Years and Over: Now Married (Not Including Separated)'"
      ]
     },
     "execution_count": 6,
     "metadata": {},
     "output_type": "execute_result"
    }
   ],
   "source": [
    "columns_to_keep[19]"
   ]
  },
  {
   "cell_type": "code",
   "execution_count": null,
   "metadata": {},
   "outputs": [],
   "source": []
  }
 ],
 "metadata": {
  "kernelspec": {
   "display_name": "Python 3",
   "language": "python",
   "name": "python3"
  },
  "language_info": {
   "codemirror_mode": {
    "name": "ipython",
    "version": 3
   },
   "file_extension": ".py",
   "mimetype": "text/x-python",
   "name": "python",
   "nbconvert_exporter": "python",
   "pygments_lexer": "ipython3",
   "version": "3.7.3"
  }
 },
 "nbformat": 4,
 "nbformat_minor": 2
}
